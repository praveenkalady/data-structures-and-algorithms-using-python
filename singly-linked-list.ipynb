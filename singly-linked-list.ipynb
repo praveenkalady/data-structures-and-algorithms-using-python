{
 "cells": [
  {
   "cell_type": "code",
   "execution_count": 1,
   "metadata": {},
   "outputs": [
    {
     "name": "stdout",
     "output_type": "stream",
     "text": [
      "1\n",
      "4\n",
      "5\n",
      "8\n"
     ]
    }
   ],
   "source": [
    "# Singly Linked List\n",
    "\n",
    "# 1.\tInsertion at the Beginning\n",
    "# 2.\tInsertion at the End\n",
    "# 3.\tInsertion after a Given Node\n",
    "# 4.\tDeletion of a Node\n",
    "# 5.\tSearching for an Element\n",
    "# 6.\tDisplaying the List\n",
    "\n",
    "class SinglyLinkedNode:\n",
    "    def __init__(self, val, next=None):\n",
    "        self.val = val\n",
    "        self.next = next\n",
    "    def __str__(self):\n",
    "        return str(self.val)\n",
    "\n",
    "# Initialization\n",
    "\n",
    "head = SinglyLinkedNode(1)\n",
    "a = SinglyLinkedNode(4)\n",
    "b = SinglyLinkedNode(5)\n",
    "c = SinglyLinkedNode(8)\n",
    "\n",
    "\n",
    "# Link all the node to each other\n",
    "\n",
    "head.next = a\n",
    "a.next = b\n",
    "b.next = c\n",
    "\n",
    "# Now we have 4 elements in this linked list \n"
   ]
  },
  {
   "cell_type": "code",
   "execution_count": 3,
   "metadata": {},
   "outputs": [
    {
     "name": "stdout",
     "output_type": "stream",
     "text": [
      "1\n",
      "4\n",
      "5\n",
      "8\n"
     ]
    }
   ],
   "source": [
    "# Print all the elements in the list\n",
    "# Linked list traversal\n",
    "\n",
    "current = head\n",
    "while current:\n",
    "    print(current)\n",
    "    current = current.next"
   ]
  },
  {
   "cell_type": "code",
   "execution_count": 12,
   "metadata": {},
   "outputs": [
    {
     "name": "stdout",
     "output_type": "stream",
     "text": [
      "True\n"
     ]
    }
   ],
   "source": [
    "# Search an element in that linked list\n",
    "\n",
    "def search_data(head, data):\n",
    "    current = head\n",
    "    while current:\n",
    "        if(current.val == data):\n",
    "            return True\n",
    "        current = current.next\n",
    "    return False\n",
    "\n",
    "\n",
    "print(search_data(head, 8))"
   ]
  },
  {
   "cell_type": "code",
   "execution_count": 26,
   "metadata": {},
   "outputs": [
    {
     "name": "stdout",
     "output_type": "stream",
     "text": [
      "1->4->5->8\n"
     ]
    }
   ],
   "source": [
    "# Display values of a linked list nicely\n",
    "\n",
    "def display_values():\n",
    "    elements = []\n",
    "    cur = head\n",
    "    while cur:\n",
    "        elements.append(str(cur.val))\n",
    "        cur = cur.next\n",
    "    formated_str = '->'.join(elements)\n",
    "    print(formated_str)\n",
    "\n",
    "display_values()"
   ]
  }
 ],
 "metadata": {
  "kernelspec": {
   "display_name": "Python 3",
   "language": "python",
   "name": "python3"
  },
  "language_info": {
   "codemirror_mode": {
    "name": "ipython",
    "version": 3
   },
   "file_extension": ".py",
   "mimetype": "text/x-python",
   "name": "python",
   "nbconvert_exporter": "python",
   "pygments_lexer": "ipython3",
   "version": "3.9.6"
  }
 },
 "nbformat": 4,
 "nbformat_minor": 2
}
